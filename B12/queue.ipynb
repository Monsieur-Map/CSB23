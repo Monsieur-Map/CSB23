{
 "cells": [
  {
   "cell_type": "markdown",
   "metadata": {},
   "source": [
    "### HÀNG ĐỢI (QUEUE)\n",
    "- Là danh sách **thêm** phần tử **ở cuối** và **loại bỏ** phần tử **ở đầu**\n",
    "-  First in - First out (FIFO)"
   ]
  },
  {
   "cell_type": "code",
   "execution_count": 11,
   "metadata": {},
   "outputs": [],
   "source": [
    "# Xây dựng class Queue\n",
    "class Queue:\n",
    "    #Khai báo\n",
    "    def __init__(self):\n",
    "        self.__queue = [] #Để dưới dạng private\n",
    "        \n",
    "    #Thêm phần tử (thêm ở cuối)\n",
    "    def enqueue(self, new_item):\n",
    "        self.__queue.append(new_item)\n",
    "        \n",
    "    #Xoá phần tử (Xoá ở đầu)\n",
    "    def dequeue(self):\n",
    "        if not self.is_empty():\n",
    "            return self.__queue.pop(0)\n",
    "    \n",
    "    def is_empty(self):\n",
    "        if len(self.__queue) == 0:\n",
    "            return True\n",
    "        else:\n",
    "            return False\n",
    "    @property\n",
    "    def size(self):\n",
    "        return int(len(self.__queue))\n",
    "    \n",
    "    @property\n",
    "    def front(self):\n",
    "        if not self.is_empty():\n",
    "            return self.__queue[0] #Lấy về vị trí đầu tiên\n",
    "    \n",
    "    def __str__(self):\n",
    "        return str(self.__queue) # ép kiểu list về kiểu string     "
   ]
  },
  {
   "cell_type": "code",
   "execution_count": 15,
   "metadata": {},
   "outputs": [
    {
     "name": "stdout",
     "output_type": "stream",
     "text": [
      "[1, 24, -100, 2.4, 88]\n",
      "1\n",
      "[24, -100, 2.4, 88]\n"
     ]
    },
    {
     "ename": "TypeError",
     "evalue": "'int' object is not callable",
     "output_type": "error",
     "traceback": [
      "\u001b[31m---------------------------------------------------------------------------\u001b[39m",
      "\u001b[31mTypeError\u001b[39m                                 Traceback (most recent call last)",
      "\u001b[36mCell\u001b[39m\u001b[36m \u001b[39m\u001b[32mIn[15]\u001b[39m\u001b[32m, line 12\u001b[39m\n\u001b[32m     10\u001b[39m \u001b[38;5;28mprint\u001b[39m(queue)\n\u001b[32m     11\u001b[39m queue.enqueue(\u001b[32m132\u001b[39m)\n\u001b[32m---> \u001b[39m\u001b[32m12\u001b[39m \u001b[38;5;28mprint\u001b[39m(\u001b[43mqueue\u001b[49m\u001b[43m.\u001b[49m\u001b[43msize\u001b[49m\u001b[43m(\u001b[49m\u001b[43m)\u001b[49m)\n\u001b[32m     13\u001b[39m \u001b[38;5;28mprint\u001b[39m(queue.front) \u001b[38;5;66;03m# Trở về vị trí đầu tiên\u001b[39;00m\n",
      "\u001b[31mTypeError\u001b[39m: 'int' object is not callable"
     ]
    }
   ],
   "source": [
    "# test drive\n",
    "queue = Queue()\n",
    "queue.enqueue(1)\n",
    "queue.enqueue(24)\n",
    "queue.enqueue(-100)\n",
    "queue.enqueue(2.4)\n",
    "queue.enqueue(88)\n",
    "print(queue)\n",
    "print(queue.dequeue())\n",
    "print(queue)\n",
    "queue.enqueue(132)\n",
    "print(queue.front) # Trở về vị trí đầu tiên"
   ]
  }
 ],
 "metadata": {
  "kernelspec": {
   "display_name": "Python 3",
   "language": "python",
   "name": "python3"
  },
  "language_info": {
   "codemirror_mode": {
    "name": "ipython",
    "version": 3
   },
   "file_extension": ".py",
   "mimetype": "text/x-python",
   "name": "python",
   "nbconvert_exporter": "python",
   "pygments_lexer": "ipython3",
   "version": "3.11.9"
  }
 },
 "nbformat": 4,
 "nbformat_minor": 2
}
