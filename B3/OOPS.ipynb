{
 "cells": [
  {
   "cell_type": "markdown",
   "metadata": {},
   "source": [
    "- OOP: class (bản vẽ): quy định  **thuộc tính** + **phương thức** cho object (bản sao)\n",
    "- Mỗi class đều bắt buộc có 1 def __init__ (hàm khởi tạo)\n",
    "- Tên Class **viết hoa chữ cái đầu**.\n",
    "- **4 Tính chất**:\n",
    "    - Kế thừa\n",
    "    - Đóng gói (packed)\n",
    "    - Trừu tượng (Abstract)\n",
    "    - Đa hình (Geometry:Đ)\n",
    "- *Note: mỗi class được tạo ra, **mặc định được kế thừa từ class Object** trong thư viện Python*\n",
    "    - Nếu không khai báo hàm khởi tọ -> chương trình sẽ lấy init mặc định từ Object\n",
    "\n"
   ]
  },
  {
   "cell_type": "markdown",
   "metadata": {},
   "source": [
    "- Tạo class Animal: age, sound, name -> hàm speak in ra tiếng kêu, hàm action để trống\n",
    "- Tạo class Dog, Duck, Bird: chỉnh sửa lại hàm str để có thể in ra thông tin của các con vật\n",
    "- Mỗi con vật có action riêng"
   ]
  },
  {
   "cell_type": "code",
   "execution_count": 10,
   "metadata": {},
   "outputs": [],
   "source": [
    "class Animal:\n",
    "    # Hàm khởi tạo \n",
    "    def __init__(self, name: str, age: int, sound: str): # Do không biết user đặt tên gì nên code tự đặt cho object tên là Self\n",
    "        # __prop: private\n",
    "        self.__name = name\n",
    "        self.__age = age\n",
    "        self.__sound = sound\n",
    "        \n",
    "    # getter/ setter (thể hiện tính đóng gói)\n",
    "    @property\n",
    "    def getName(self):                      \n",
    "        return self.__name\n",
    "    \n",
    "    def setName(self, name):\n",
    "        self.__name = name\n",
    "    \n",
    "    def getAge(self):\n",
    "        return self.__age\n",
    "    \n",
    "    def setAge(self, age):\n",
    "        self.__age = age\n",
    "        \n",
    "    # Tính đa hình\n",
    "    def speak(self):\n",
    "        return self.name + \"speaks\" + self.__sound\n",
    "    \n",
    "    # Tính trừu tượng\n",
    "    def action(self):\n",
    "        pass\n"
   ]
  },
  {
   "cell_type": "code",
   "execution_count": 4,
   "metadata": {},
   "outputs": [],
   "source": [
    "# Tính kế thừa\n",
    "class Bird(Animal):\n",
    "    def __init__(self, name, age):\n",
    "        # Lấy code từ init của lớp cha là Animal\n",
    "        super().__init__(name, age, \"Chíp chíp\")\n",
    "    \n",
    "    def action(self):\n",
    "        print(\"Bird believes it can fly\")\n",
    "        \n",
    "    def __str__(self):\n",
    "        # Ghi đè code cũ -> tính đa hình\n",
    "        return \"Bird:\" + self.getName()\n",
    "    \n",
    "    \n",
    "class Dog(Animal):\n",
    "    def __init__(self, name, age):\n",
    "        # Lấy code từ init của lớp cha là Animal\n",
    "        super().__init__(name, age, \"Woof\")\n",
    "    \n",
    "    def action(self):\n",
    "        print(\"Dog believes it can run\")\n",
    "        \n",
    "    def __str__(self):\n",
    "        # Ghi đè code cũ -> tính đa hình\n",
    "        return \"Dog:\" + self.getName()\n",
    "    \n",
    "class Duck(Animal):\n",
    "    def __init__(self, name, age):\n",
    "        # Lấy code từ init của lớp cha là Animal\n",
    "        super().__init__(name, age, \"Quạc\")\n",
    "    \n",
    "    def action(self):\n",
    "        print(\"Duck believes it can swim\")\n",
    "        \n",
    "    def __str__(self):\n",
    "        # Ghi đè code cũ -> tính đa hình\n",
    "        return \"Duck:\" + self.getName()\n",
    "    \n",
    "    "
   ]
  },
  {
   "cell_type": "code",
   "execution_count": 9,
   "metadata": {},
   "outputs": [
    {
     "ename": "TypeError",
     "evalue": "Dog.__str__() takes 1 positional argument but 2 were given",
     "output_type": "error",
     "traceback": [
      "\u001b[31m---------------------------------------------------------------------------\u001b[39m",
      "\u001b[31mTypeError\u001b[39m                                 Traceback (most recent call last)",
      "\u001b[36mCell\u001b[39m\u001b[36m \u001b[39m\u001b[32mIn[9]\u001b[39m\u001b[32m, line 5\u001b[39m\n\u001b[32m      3\u001b[39m \u001b[38;5;66;03m#Sửa tên => Gọi hàm setName (tính kế thừa)\u001b[39;00m\n\u001b[32m      4\u001b[39m dog1.setName(\u001b[33m\"\u001b[39m\u001b[33mChiahuahua\u001b[39m\u001b[33m\"\u001b[39m)\n\u001b[32m----> \u001b[39m\u001b[32m5\u001b[39m \u001b[38;5;28mprint\u001b[39m(\u001b[43mdog1\u001b[49m\u001b[43m.\u001b[49m\u001b[34;43m__str__\u001b[39;49m\u001b[43m(\u001b[49m\u001b[33;43m\"\u001b[39;49m\u001b[33;43mBrandon\u001b[39;49m\u001b[33;43m\"\u001b[39;49m\u001b[43m)\u001b[49m)\n",
      "\u001b[31mTypeError\u001b[39m: Dog.__str__() takes 1 positional argument but 2 were given"
     ]
    }
   ],
   "source": [
    "# test\n",
    "dog1 = Dog(\"\", 10)\n",
    "#Sửa tên => Gọi hàm setName (tính kế thừa)\n",
    "dog1.setName(\"Chiahuahua\")\n",
    "print(dog1.__str__(\"Brandon\"))"
   ]
  }
 ],
 "metadata": {
  "kernelspec": {
   "display_name": "Python 3",
   "language": "python",
   "name": "python3"
  },
  "language_info": {
   "codemirror_mode": {
    "name": "ipython",
    "version": 3
   },
   "file_extension": ".py",
   "mimetype": "text/x-python",
   "name": "python",
   "nbconvert_exporter": "python",
   "pygments_lexer": "ipython3",
   "version": "3.11.9"
  }
 },
 "nbformat": 4,
 "nbformat_minor": 2
}
