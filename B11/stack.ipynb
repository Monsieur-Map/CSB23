{
 "cells": [
  {
   "cell_type": "markdown",
   "metadata": {},
   "source": [
    "## Stack (Thường được sử dụng để quản lý lịch sử của các trang web)\n",
    "- **Ngăn xếp (stack)** là một kểu danh sách mà thao tác thêm và xoá phần tử được **thực hiện ở cuối danh sách**\n",
    "- Stack là kiểu dữ liệu **Last In  - First Out (LIFO)**\n",
    "- Độ phức tạp của các thao tác thêm, sửa, xoá đều bằng **0(1)**"
   ]
  },
  {
   "cell_type": "code",
   "execution_count": 2,
   "metadata": {},
   "outputs": [],
   "source": [
    "# Khai báo (sử dụng list để biểu diễn stack)\n",
    "stack = [ 24,11,2000]\n"
   ]
  },
  {
   "cell_type": "code",
   "execution_count": 3,
   "metadata": {},
   "outputs": [
    {
     "data": {
      "text/plain": [
       "2000"
      ]
     },
     "execution_count": 3,
     "metadata": {},
     "output_type": "execute_result"
    }
   ],
   "source": [
    "#Peek: Truy cập phần tử\n",
    "stack[-1] # Lấy phần tử cuối cùng\n"
   ]
  },
  {
   "cell_type": "code",
   "execution_count": 4,
   "metadata": {},
   "outputs": [
    {
     "data": {
      "text/plain": [
       "[24, 11, 2000, 'oh gosh']"
      ]
     },
     "execution_count": 4,
     "metadata": {},
     "output_type": "execute_result"
    }
   ],
   "source": [
    "# PUSH: thêm phần tử vào đỉnh stack\n",
    "stack.append(\"oh gosh\")\n",
    "stack"
   ]
  },
  {
   "cell_type": "code",
   "execution_count": 33,
   "metadata": {},
   "outputs": [
    {
     "data": {
      "text/plain": [
       "[24, 11, 2000]"
      ]
     },
     "execution_count": 33,
     "metadata": {},
     "output_type": "execute_result"
    }
   ],
   "source": [
    "# POP: Xoá + trả về về phần tử ở <đỉnh stack>\n",
    "stack.pop()\n",
    "stack\n"
   ]
  },
  {
   "cell_type": "code",
   "execution_count": 6,
   "metadata": {},
   "outputs": [
    {
     "ename": "AttributeError",
     "evalue": "'list' object has no attribute 'peek'",
     "output_type": "error",
     "traceback": [
      "\u001b[31m---------------------------------------------------------------------------\u001b[39m",
      "\u001b[31mAttributeError\u001b[39m                            Traceback (most recent call last)",
      "\u001b[36mCell\u001b[39m\u001b[36m \u001b[39m\u001b[32mIn[6]\u001b[39m\u001b[32m, line 2\u001b[39m\n\u001b[32m      1\u001b[39m \u001b[38;5;66;03m# PEEK: xem phần tử cuối\u001b[39;00m\n\u001b[32m----> \u001b[39m\u001b[32m2\u001b[39m a= \u001b[43mstack\u001b[49m\u001b[43m.\u001b[49m\u001b[43mpeek\u001b[49m()\n\u001b[32m      3\u001b[39m \u001b[38;5;28mprint\u001b[39m(a)\n",
      "\u001b[31mAttributeError\u001b[39m: 'list' object has no attribute 'peek'"
     ]
    }
   ],
   "source": [
    "# PEEK: xem phần tử cuối\n",
    "stack\n"
   ]
  },
  {
   "cell_type": "markdown",
   "metadata": {},
   "source": [
    "### Kiểm tra rỗng\n"
   ]
  },
  {
   "cell_type": "code",
   "execution_count": 34,
   "metadata": {},
   "outputs": [
    {
     "name": "stdout",
     "output_type": "stream",
     "text": [
      "[24, 11, 2000]\n"
     ]
    }
   ],
   "source": [
    "if len(stack) == 0:\n",
    "    print(\"Empty\")\n",
    "else: \n",
    "    print(stack)"
   ]
  }
 ],
 "metadata": {
  "kernelspec": {
   "display_name": "Python 3",
   "language": "python",
   "name": "python3"
  },
  "language_info": {
   "codemirror_mode": {
    "name": "ipython",
    "version": 3
   },
   "file_extension": ".py",
   "mimetype": "text/x-python",
   "name": "python",
   "nbconvert_exporter": "python",
   "pygments_lexer": "ipython3",
   "version": "3.11.9"
  }
 },
 "nbformat": 4,
 "nbformat_minor": 2
}
