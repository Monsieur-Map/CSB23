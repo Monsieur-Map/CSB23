{
 "cells": [
  {
   "cell_type": "markdown",
   "metadata": {},
   "source": [
    "Chia đôi danh sách để tìm kiếm (mid, start, end)\n",
    "<br>\n",
    "Độ phức tạp: O(log2(n))"
   ]
  },
  {
   "cell_type": "code",
   "execution_count": 15,
   "metadata": {},
   "outputs": [],
   "source": [
    "def binary_search_loop(arr, target): #Vòng lặp\n",
    "    #Danh sách rỗng\n",
    "    if not arr: return -1\n",
    "    # Khởi tạo mid, start, end\n",
    "    start, end = 0, len(arr) -1\n",
    "    mid = (end - start) // 2 + start\n",
    "    \n",
    "    # Lặp từ start đến end\n",
    "    while start <= end:\n",
    "        # = \n",
    "        if arr[mid] == target:\n",
    "            return mid\n",
    "            # <\n",
    "        if arr[mid] < target:\n",
    "            start = mid +1\n",
    "            # >\n",
    "        else:\n",
    "            end = mid -1\n",
    "        # Cập nhật mid\n",
    "        mid = (end - start) // 2 + start\n",
    "    # Kết thức vòng while -> không tìm thấy\n",
    "    return  -1\n",
    "        "
   ]
  },
  {
   "cell_type": "code",
   "execution_count": 32,
   "metadata": {},
   "outputs": [],
   "source": [
    "import timeit\n",
    "import random\n",
    "arr = [ random.randint(-10,100) for _ in range(1000)]\n",
    "arr.sort()\n"
   ]
  },
  {
   "cell_type": "code",
   "execution_count": 31,
   "metadata": {},
   "outputs": [
    {
     "name": "stdout",
     "output_type": "stream",
     "text": [
      " Đo thời gian tìm kiếm:  0.0018541999743320048\n"
     ]
    }
   ],
   "source": [
    "# number (timeit) = dộ trng bình cho n lần chạy\n",
    "print(\" Đo thời gian tìm kiếm: \", timeit.timeit(lambda: binary_search_loop(arr, 24), number=1000)) # Tìm kiếm số 24"
   ]
  },
  {
   "cell_type": "markdown",
   "metadata": {},
   "source": [
    "## Code đệ quy"
   ]
  },
  {
   "cell_type": "code",
   "execution_count": 22,
   "metadata": {},
   "outputs": [],
   "source": [
    "def binary_search_recursive(arr, target, start, end):\n",
    "    # Hết lần chạy\n",
    "    if start <= end: return -1\n",
    "    # Tạo mid\n",
    "    mid = (end - start) // 2 + start\n",
    "    # Nếu tìm thấy\n",
    "    if arr[mid] == target:\n",
    "        return mid\n",
    "    # Nếu < target\n",
    "    elif arr[mid] < target:\n",
    "        return binary_search_recursive(arr, target, mid +1, end) # Đề quy\n",
    "    \n",
    "    else:\n",
    "        return binary_search_recursive(any, target, start, mid -1)# Đề quy"
   ]
  },
  {
   "cell_type": "code",
   "execution_count": 30,
   "metadata": {},
   "outputs": [],
   "source": [
    "def run(arr, target):\n",
    "    if not arr: return -1\n",
    "    return binary_search_recursive(arr, target, 0, len(arr)-1)"
   ]
  },
  {
   "cell_type": "code",
   "execution_count": 33,
   "metadata": {},
   "outputs": [
    {
     "name": "stdout",
     "output_type": "stream",
     "text": [
      "Kết quả tìm kiếm: -1\n",
      "Đo thời gian tìm kiếm:  0.0034904000349342823\n"
     ]
    }
   ],
   "source": [
    "import timeit\n",
    "import random\n",
    "arr2 = [ random.randint(-10,100) for _ in range(1000)]\n",
    "arr2.sort()\n",
    "# Hàm lambda\n",
    "def a(): return run(arr2, random.randint(-100, 1000))\n",
    "exe_time = timeit.timeit(a, number=1000)\n",
    "print(f\"Kết quả tìm kiếm: {a()}\")\n",
    "print(\"Đo thời gian tìm kiếm: \", exe_time)"
   ]
  }
 ],
 "metadata": {
  "kernelspec": {
   "display_name": "Python 3",
   "language": "python",
   "name": "python3"
  },
  "language_info": {
   "codemirror_mode": {
    "name": "ipython",
    "version": 3
   },
   "file_extension": ".py",
   "mimetype": "text/x-python",
   "name": "python",
   "nbconvert_exporter": "python",
   "pygments_lexer": "ipython3",
   "version": "3.11.9"
  }
 },
 "nbformat": 4,
 "nbformat_minor": 2
}
