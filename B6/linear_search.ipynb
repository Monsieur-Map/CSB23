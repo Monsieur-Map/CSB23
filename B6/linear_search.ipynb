{
 "cells": [
  {
   "cell_type": "markdown",
   "metadata": {},
   "source": [
    "Duyệt qua từng phần tử trong danh sách -> kiểm tra giá trị -> return index. \n",
    "<br>\n",
    "Nếu không tìm thấy -> return -1 (False, giá trị ngoại lệ nếu không tìm thấy)"
   ]
  },
  {
   "cell_type": "code",
   "execution_count": 5,
   "metadata": {},
   "outputs": [],
   "source": [
    "def linear_search(arr, target):\n",
    "    # Danh sách rỗng\n",
    "    if not arr: return -1 # o(1)\n",
    "    # Duyệt phần tử\n",
    "    for index, value in enumerate(arr): #o(n)\n",
    "        # Nếu tìm thấy phần tử\n",
    "        if value == target: return index\n",
    "    # Kết thúc vòng for -> không tìm thấy\n",
    "    return -1   \n",
    " \n",
    "        "
   ]
  },
  {
   "cell_type": "code",
   "execution_count": 6,
   "metadata": {},
   "outputs": [
    {
     "name": "stdout",
     "output_type": "stream",
     "text": [
      "Bắt đầu chạy hàm --------------------------------------\n",
      "Kết thúc chạy hàm ---------------------------\n",
      "Kết quả chạy hàm: 0\n",
      " Thời gian thực thi: 0.000000 giây\n",
      "Bắt đầu chạy hàm --------------------------------------\n",
      "Kết thúc chạy hàm ---------------------------\n",
      "Kết quả chạy hàm: -1\n",
      " Thời gian thực thi: 0.001003 giây\n",
      "Bắt đầu chạy hàm --------------------------------------\n",
      "Kết thúc chạy hàm ---------------------------\n",
      "Kết quả chạy hàm: -1\n",
      " Thời gian thực thi: 0.000000 giây\n"
     ]
    }
   ],
   "source": [
    "import sys\n",
    "import os\n",
    "# Thêm đường dẫn cho thư mục running_time.py\n",
    "module_path = os.path.abspath(os.path.join(os.path.dirname('../running_time')))\n",
    "if module_path not in sys.path:\n",
    "    sys.path.append(module_path)\n",
    "    \n",
    "from running_time import running_time # \"running_time\" phía trước là thư viện còn \"running_time\" ở đằng sau là hàm\n",
    "\n",
    "#Test\n",
    "arr = [100, 1000, 9, 21, 545, 323, 4544, 878, -24, 0 ,-1009, 7]\n",
    "\n",
    "running_time(lambda: linear_search(arr, 100))\n",
    "running_time(lambda: linear_search(arr, -5555))\n",
    "running_time(lambda: linear_search([], 0))"
   ]
  }
 ],
 "metadata": {
  "kernelspec": {
   "display_name": "Python 3",
   "language": "python",
   "name": "python3"
  },
  "language_info": {
   "codemirror_mode": {
    "name": "ipython",
    "version": 3
   },
   "file_extension": ".py",
   "mimetype": "text/x-python",
   "name": "python",
   "nbconvert_exporter": "python",
   "pygments_lexer": "ipython3",
   "version": "3.11.9"
  }
 },
 "nbformat": 4,
 "nbformat_minor": 2
}
