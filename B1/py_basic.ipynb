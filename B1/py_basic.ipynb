{
 "cells": [
  {
   "cell_type": "markdown",
   "metadata": {},
   "source": [
    "# Nhập xuất trên terminal"
   ]
  },
  {
   "cell_type": "markdown",
   "metadata": {},
   "source": [
    "## Xuất dữ liệu\n",
    "- print(a,b,c)\n",
    "- print(..., end=\";\") # không gọi end -> mặc định cách nhau bằng 1 khoảng xuống dòng\n"
   ]
  },
  {
   "cell_type": "code",
   "execution_count": 6,
   "metadata": {},
   "outputs": [
    {
     "name": "stdout",
     "output_type": "stream",
     "text": [
      "Phuc, 15\n",
      "Hello world!\n"
     ]
    }
   ],
   "source": [
    "print(\"Phuc\", end=\", \")\n",
    "print(\"15\")\n",
    "print(\"Hello\", \"world!\")"
   ]
  },
  {
   "cell_type": "markdown",
   "metadata": {},
   "source": [
    "## Nhập xuất dữ liệu\n",
    "- input(): trả về giá trị là **'string'**\n",
    "- input(\"Yêu cầu nhập vào: \")"
   ]
  },
  {
   "cell_type": "code",
   "execution_count": 10,
   "metadata": {},
   "outputs": [
    {
     "name": "stdout",
     "output_type": "stream",
     "text": [
      "<class 'str'>\n"
     ]
    }
   ],
   "source": [
    "inp = input()\n",
    "print(type(inp))"
   ]
  },
  {
   "cell_type": "code",
   "execution_count": 13,
   "metadata": {},
   "outputs": [
    {
     "name": "stdout",
     "output_type": "stream",
     "text": [
      "<__main__.a object at 0x0000025A26CC7750>\n"
     ]
    }
   ],
   "source": [
    "class a:\n",
    "    def _init_(self):\n",
    "        self.name = \"a\"\n",
    "        pass\n",
    "obj = a()\n",
    "print(obj)"
   ]
  },
  {
   "cell_type": "markdown",
   "metadata": {},
   "source": [
    "## Kiểu dữ liệu\n",
    "- **int**: kiểu số nguyên => 1\n",
    "- **float**: kiểu số thực => 1.3\n",
    "- **string**: Kiểu chuỗi => \"abc+-\"\n",
    "- **boolean**: kiểu đúng sai => true/false"
   ]
  },
  {
   "cell_type": "code",
   "execution_count": 15,
   "metadata": {},
   "outputs": [
    {
     "name": "stdout",
     "output_type": "stream",
     "text": [
      "<class 'bool'> <class 'str'>\n",
      "0.30000000000000004\n"
     ]
    }
   ],
   "source": [
    "print(type(True), type(\"string\"))\n",
    "print(0.1 + 0.2)"
   ]
  },
  {
   "cell_type": "markdown",
   "metadata": {},
   "source": [
    "## Toán tử"
   ]
  },
  {
   "cell_type": "markdown",
   "metadata": {},
   "source": [
    "### Toán tử số học\n",
    "- Cộng (+)\n",
    "- Trừ (-)\n",
    "- Nhân (*)\n",
    "- Chia (/)\n",
    "- Chia lấy phần nguyên (//)\n",
    "- Chia lấy phần dư (%)\n",
    "- Luỹ thừa (**)\n",
    "- **Lưu ý**: \n",
    "- ***Kiểu float có phạm vi lớn hơn kiểu int. Nếu phép tính có cả float và int thì kết quả sẽ có kiểu float.***\n",
    "- Không thao tác với 2 vế **khác kiểu dữ liệu**"
   ]
  },
  {
   "cell_type": "code",
   "execution_count": 17,
   "metadata": {},
   "outputs": [
    {
     "name": "stdout",
     "output_type": "stream",
     "text": [
      "Age 15\n",
      "aaa\n",
      "<class 'int'>\n",
      "<class 'float'>\n"
     ]
    }
   ],
   "source": [
    "print(\"Age \" + str(15)) #Chuyển kiểu dữ liệu về string\n",
    "print(\"a\"*3) #aaa\n",
    "print(type(10%3)) # Chia lấy phần nguyên/dư => int => cụ thể là ra 1\n",
    "print(type(10/2)) # Chia thường => float => cụ thể là 5"
   ]
  },
  {
   "cell_type": "markdown",
   "metadata": {},
   "source": [
    "### Toán tử  so sánh \n",
    "- Lớn hơn (>)\n",
    "- Lớn hơn hoặc bằng (>=)\n",
    "- Bé hơn (<)\n",
    "- Bé hơn hoặc bằng (<=>)\n",
    "- Bằng (==)\n",
    "- Khác (!=)\n",
    "- **Lưu ý:**\n",
    "    - Trả về giá trị **boolean**\n",
    "    - Khi so sánh, chỉ xét **2 vế liền kề, từ trái sang phải**\n",
    "    "
   ]
  },
  {
   "cell_type": "markdown",
   "metadata": {},
   "source": [
    "### Toán tử logic\n",
    "- **and**: và (lấy về False gần nhất, nếu không có false => lấy về True cuối cùng)\n",
    "- **or**: hoặc (lấy vế True gần nhất, nếu không có True => lấy vế False cuối cùng)\n",
    "- **not**: phủ định\n",
    "- **Lưu ý:**\n",
    "    - 2 vế trái phải đề phải chuyển về kiểu dữ liệu **boolean**\n",
    "    - Trả về giá trị **boolean**\n",
    "    - Khi so sánh, chỉ sét **2 vế liều kế từ trái sang phải**"
   ]
  },
  {
   "cell_type": "markdown",
   "metadata": {},
   "source": [
    "**Truly, Falsy:** Những giá trị trả về False khi chuyển kiểu thành **boolean**:\n",
    "- \"\": chuỗi rỗng\n",
    "- 0, 0.0\n",
    "- False\n",
    "- None\n",
    "- **[] -> list, (), {} -> dictionary, set()**: danh sách rỗng"
   ]
  },
  {
   "cell_type": "code",
   "execution_count": 18,
   "metadata": {},
   "outputs": [
    {
     "name": "stdout",
     "output_type": "stream",
     "text": [
      "4\n"
     ]
    }
   ],
   "source": [
    "print(3 and 4) # 3 và 4 đều là 2 phần tử True mà 4 lại đứng cuối cùng nên mình chọn số 4 (cũng là phần tử True)"
   ]
  },
  {
   "cell_type": "code",
   "execution_count": 19,
   "metadata": {},
   "outputs": [
    {
     "name": "stdout",
     "output_type": "stream",
     "text": [
      "1.2\n"
     ]
    }
   ],
   "source": [
    "a = [] #false\n",
    "b = \"abc\" #true\n",
    "c = 1.2 #true\n",
    "d = None #false\n",
    "print(a and b or c or not d)\n",
    "# a and b: False\n",
    "# False or c: True\n",
    "# True or not d: True"
   ]
  }
 ],
 "metadata": {
  "kernelspec": {
   "display_name": "Python 3",
   "language": "python",
   "name": "python3"
  },
  "language_info": {
   "codemirror_mode": {
    "name": "ipython",
    "version": 3
   },
   "file_extension": ".py",
   "mimetype": "text/x-python",
   "name": "python",
   "nbconvert_exporter": "python",
   "pygments_lexer": "ipython3",
   "version": "3.11.9"
  }
 },
 "nbformat": 4,
 "nbformat_minor": 2
}
