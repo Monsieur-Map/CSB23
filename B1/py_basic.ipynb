{
 "cells": [
  {
   "cell_type": "markdown",
   "metadata": {},
   "source": [
    "# Nhập xuất trên terminal"
   ]
  },
  {
   "cell_type": "markdown",
   "metadata": {},
   "source": [
    "## Xuất dữ liệu\n",
    "- print(a,b,c)\n",
    "- print(..., end=\";\") # không gọi end -> mặc định cách nhau bằng 1 khoảng xuống dòng\n"
   ]
  },
  {
   "cell_type": "code",
   "execution_count": 6,
   "metadata": {},
   "outputs": [
    {
     "name": "stdout",
     "output_type": "stream",
     "text": [
      "Phuc, 15\n",
      "Hello world!\n"
     ]
    }
   ],
   "source": [
    "print(\"Phuc\", end=\", \")\n",
    "print(\"15\")\n",
    "print(\"Hello\", \"world!\")"
   ]
  },
  {
   "cell_type": "markdown",
   "metadata": {},
   "source": [
    "## Nhập xuất dữ liệu\n",
    "- input(): trả về giá trị là **'string'**\n",
    "- input(\"Yêu cầu nhập vào: \")"
   ]
  },
  {
   "cell_type": "code",
   "execution_count": 10,
   "metadata": {},
   "outputs": [
    {
     "name": "stdout",
     "output_type": "stream",
     "text": [
      "<class 'str'>\n"
     ]
    }
   ],
   "source": [
    "inp = input()\n",
    "print(type(inp))"
   ]
  }
 ],
 "metadata": {
  "kernelspec": {
   "display_name": "Python 3",
   "language": "python",
   "name": "python3"
  },
  "language_info": {
   "codemirror_mode": {
    "name": "ipython",
    "version": 3
   },
   "file_extension": ".py",
   "mimetype": "text/x-python",
   "name": "python",
   "nbconvert_exporter": "python",
   "pygments_lexer": "ipython3",
   "version": "3.11.9"
  }
 },
 "nbformat": 4,
 "nbformat_minor": 2
}
