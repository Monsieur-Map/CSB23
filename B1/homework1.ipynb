{
 "cells": [
  {
   "cell_type": "code",
   "execution_count": 31,
   "metadata": {},
   "outputs": [
    {
     "name": "stdout",
     "output_type": "stream",
     "text": [
      "Tổng các sổ lẻ từ 1 đến  13  là:  49\n",
      "13  là một số nguyên tố \n",
      "ước của  13  là: [1, 13]\n"
     ]
    }
   ],
   "source": [
    "n = int(input())\n",
    "sum = 0\n",
    "for i in range (1,n+1):\n",
    "    if i%2!=0:\n",
    "        sum += i\n",
    "    \n",
    "print(\"Tổng các sổ lẻ từ 1 đến \",n,\" là: \", sum)\n",
    "    \n",
    "def check_so_nguyen_to(n):\n",
    "    if n<2:\n",
    "        return False\n",
    "    for i in range (2, int(n**0.5) + 1):\n",
    "        if n%i==0:\n",
    "            return False\n",
    "    return True\n",
    "\n",
    "if check_so_nguyen_to(n):\n",
    "    print(n,\" là một số nguyên tố \")\n",
    "else:\n",
    "    print(n,\" không là một số nguyên tố\")\n",
    "    \n",
    "uoc_so = []\n",
    "for i in range (1, n+1):\n",
    "    if n%i==0:\n",
    "        uoc_so.append(i)\n",
    "print(\"ước của \",n,\" là:\", uoc_so) \n",
    "    \n",
    "\n",
    "\n"
   ]
  }
 ],
 "metadata": {
  "kernelspec": {
   "display_name": "Python 3",
   "language": "python",
   "name": "python3"
  },
  "language_info": {
   "codemirror_mode": {
    "name": "ipython",
    "version": 3
   },
   "file_extension": ".py",
   "mimetype": "text/x-python",
   "name": "python",
   "nbconvert_exporter": "python",
   "pygments_lexer": "ipython3",
   "version": "3.11.9"
  }
 },
 "nbformat": 4,
 "nbformat_minor": 2
}
