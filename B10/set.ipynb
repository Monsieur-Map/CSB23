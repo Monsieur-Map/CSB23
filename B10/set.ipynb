{
 "cells": [
  {
   "cell_type": "markdown",
   "metadata": {},
   "source": [
    "<h2> <strong>Đặc điểm<strong></h2>\n",
    "- **Không trùng lặp** phần tử <br>\n",
    "- Phần tử **không có thứ tự** <br>\n",
    "- Có thể thay đổi (**mutable**) <br>"
   ]
  },
  {
   "cell_type": "code",
   "execution_count": 5,
   "metadata": {},
   "outputs": [
    {
     "name": "stdout",
     "output_type": "stream",
     "text": [
      "<class 'set'>\n",
      "<class 'set'>\n",
      "{'ú', 'đ', 'z', 'c', 'p', 'h'}\n"
     ]
    }
   ],
   "source": [
    "# Khai báo\n",
    "# Cách 1\n",
    "set1 = set() # set rỗng -> không khai báo có {} -> set()\n",
    "print(type(set1))\n",
    "\n",
    "set2 = {\"p\",\"h\",\"ú\",\"c\",\"đ\",\"z\"} # Không trùng lặp\n",
    "print(type(set2))\n",
    "print(set2)"
   ]
  },
  {
   "cell_type": "code",
   "execution_count": 14,
   "metadata": {},
   "outputs": [
    {
     "name": "stdout",
     "output_type": "stream",
     "text": [
      "ú\n",
      "đ\n",
      "z\n",
      "c\n",
      "p\n",
      "h\n"
     ]
    }
   ],
   "source": [
    "# Truy cập phần tử\n",
    "for i in set2:\n",
    "    print(i) #Chưa sắp xếp nên vị trí truy cập sẽ hỗn loạn"
   ]
  },
  {
   "cell_type": "code",
   "execution_count": 29,
   "metadata": {},
   "outputs": [
    {
     "name": "stdout",
     "output_type": "stream",
     "text": [
      "{'z', 'c', 'h', 'ú', 'manipulative', 'newbie', 'đ', 'stubborn', 'p'}\n",
      "{'z', 'c', 'h', 'ú', 'manipulative', 'newbie', 'đ', 'stubborn', 'p'}\n"
     ]
    }
   ],
   "source": [
    "# Thêm\n",
    "set2.add(\"newbie\")\n",
    "print(set2)\n",
    "\n",
    "set2.update({\"stubborn\", \"manipulative\"}) # Update O(m) phần tử và bắt buộc phải dùng list, set (bắt buộc phải cùng loại)\n",
    "print(set2)\n",
    "#Tất cả vẫn không xếp thứ tự"
   ]
  },
  {
   "cell_type": "code",
   "execution_count": 30,
   "metadata": {},
   "outputs": [
    {
     "name": "stdout",
     "output_type": "stream",
     "text": [
      "{'z', 'c', 'h', 'ú', 'manipulative', 'newbie', 'đ', 'stubborn', 'p'}\n",
      "{'z', 'c', 'h', 'ú', 'manipulative', 'đ', 'stubborn', 'p'}\n",
      "{'z', 'c', 'h', 'ú', 'manipulative', 'đ', 'p'}\n"
     ]
    }
   ],
   "source": [
    "# Xoá (Dựa vào giá trị của phần tử)\n",
    "print(set2)\n",
    "set2.remove(\"newbie\") #Nếu mà không có phần tử có trong set2 thì sẽ báo lỗi\n",
    "print(set2)\n",
    "\n",
    "set2.discard(\"stubborn\") # Cũng là xoá nhưng mà nếu mà xoá phần tử không có trong set2 thì sẽ không báo lỗi\n",
    "print(set2)"
   ]
  },
  {
   "cell_type": "markdown",
   "metadata": {},
   "source": [
    "<h1>Phép toán OPERATOR</h1>"
   ]
  },
  {
   "cell_type": "markdown",
   "metadata": {},
   "source": [
    "## Phép hợp (union) -> unify các phần tử của các mảng\n",
    "- Phép cộng 2 set\n",
    "- Sử dụng hàn: **set.union(set)**\n",
    "- Hoặc sử dụng toán tử `|` (or) \n",
    "- **Trả về 1 mảng mới** chứa tất cả phần tử của 2 mảng ban đầu"
   ]
  },
  {
   "cell_type": "code",
   "execution_count": 32,
   "metadata": {},
   "outputs": [
    {
     "name": "stdout",
     "output_type": "stream",
     "text": [
      "Skills need to learn: {'nodejs', 'angular', 'nextjs', 'spring', 'flask', 'react'}\n",
      "Skills need to learn: {'nodejs', 'angular', 'nextjs', 'spring', 'flask', 'react'}\n"
     ]
    }
   ],
   "source": [
    "back_end = {\"nodejs\", \"spring\", \"flask\", \"nextjs\"}\n",
    "front_end = {\"nextjs\", \"nodejs\", \"react\", \"angular\"}\n",
    "print(f\"Skills need to learn: {back_end | front_end}\")  # Phần tử lấy không có bị lặp\n",
    "print(f\"Skills need to learn: {back_end.union(front_end)}\") "
   ]
  },
  {
   "cell_type": "markdown",
   "metadata": {},
   "source": [
    "### Phép giao (intersection):\n",
    "- Lấy **phần tử có ở cả 2 mảng** set.\n",
    "- Sử dụng hàm: **set.intersection(set)**\n",
    "- Hoặc sử dụng toán tử `&` (and)\n",
    "- **Trả về 1 mảng mới** chứa điểm giao có ở cả 2 mảng"
   ]
  },
  {
   "cell_type": "code",
   "execution_count": 33,
   "metadata": {},
   "outputs": [
    {
     "name": "stdout",
     "output_type": "stream",
     "text": [
      "Skills need to learn: {'nodejs', 'nextjs'}\n",
      "Skills need to learn: {'nodejs', 'nextjs'}\n"
     ]
    }
   ],
   "source": [
    "print(f\"Skills need to learn: {back_end & front_end}\")\n",
    "print(f\"Skills need to learn: {back_end.intersection(front_end)}\")"
   ]
  },
  {
   "cell_type": "markdown",
   "metadata": {},
   "source": [
    "### Phép hiệu (subtraction):\n",
    "- **Lấy phần tử của mảng của số trừ**, không lấy phần tử của mảng số bị trừ + phần giao của mảng trừ và mảng bị trừ\n",
    "- Sử dụng hàm: **set.difference(set)**\n",
    "- Hoặc sử dụng toán tử `-` (sub)\n",
    "- **Trả về 1 mảng mới** chứa phần tử của mảng đem ra trừ. \n"
   ]
  },
  {
   "cell_type": "code",
   "execution_count": 39,
   "metadata": {},
   "outputs": [
    {
     "name": "stdout",
     "output_type": "stream",
     "text": [
      "Only back_end skills: {'spring', 'flask'}\n",
      "Only front_end skills: {'angular', 'react'}\n"
     ]
    }
   ],
   "source": [
    "\n",
    "print(f\"Only back_end skills: {back_end - front_end}\")\n",
    "print(f\"Only front_end skills: {front_end.difference(back_end)}\")"
   ]
  }
 ],
 "metadata": {
  "kernelspec": {
   "display_name": "Python 3",
   "language": "python",
   "name": "python3"
  },
  "language_info": {
   "codemirror_mode": {
    "name": "ipython",
    "version": 3
   },
   "file_extension": ".py",
   "mimetype": "text/x-python",
   "name": "python",
   "nbconvert_exporter": "python",
   "pygments_lexer": "ipython3",
   "version": "3.11.9"
  }
 },
 "nbformat": 4,
 "nbformat_minor": 2
}
