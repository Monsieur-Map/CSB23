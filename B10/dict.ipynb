{
 "cells": [
  {
   "cell_type": "markdown",
   "metadata": {},
   "source": [
    "## Ánh xạ (Mapping):\n",
    "- Sử dụng hàm: **map(func, iterable)**\n",
    "- Trả về kiểu dữ liệu **map** -> **ép về kiểu dữ liệu cũ** sau khi map"
   ]
  },
  {
   "cell_type": "code",
   "execution_count": null,
   "metadata": {},
   "outputs": [],
   "source": [
    "# Cho danh sách họ và tên -> xuất ra danh sách chỉ lấy tên\n",
    "from faker import Faker\n",
    "faler = Faker()\n",
    "name_list = [faker.name() for _ in range(20)]\n"
   ]
  },
  {
   "cell_type": "code",
   "execution_count": 3,
   "metadata": {},
   "outputs": [],
   "source": [
    "names = [\n",
    "    \"Emma Johnson\",\n",
    "    \"Liam Smith\",\n",
    "    \"Olivia Brown\",\n",
    "    \"Noah Garcia\",\n",
    "    \"Ava Martinez\",\n",
    "    \"Elijah Davis\",\n",
    "    \"Sophia Taylor\",\n",
    "    \"James Miller\",\n",
    "    \"Isabella Wilson\",\n",
    "    \"Benjamin Anderson\",\n",
    "    \"Mia Thomas\",\n",
    "    \"Lucas Moore\",\n",
    "    \"Charlotte Martin\",\n",
    "    \"Henry Lee\",\n",
    "    \"Amelia White\",\n",
    "    \"Alexander Harris\",\n",
    "    \"Harper Clark\",\n",
    "    \"Ethan Lewis\",\n",
    "    \"Evelyn Young\",\n",
    "    \"William Hall\"\n",
    "]"
   ]
  },
  {
   "cell_type": "code",
   "execution_count": 8,
   "metadata": {},
   "outputs": [
    {
     "name": "stdout",
     "output_type": "stream",
     "text": [
      "['emma', 'liam', 'olivia', 'noah', 'ava', 'elijah', 'sophia', 'james', 'isabella', 'benjamin', 'mia', 'lucas', 'charlotte', 'henry', 'amelia', 'alexander', 'harper', 'ethan', 'evelyn', 'william']\n"
     ]
    }
   ],
   "source": [
    "first_name = map(lambda fullname: fullname.split()[0].lower(), names)\n",
    "print(list(first_name))"
   ]
  },
  {
   "cell_type": "markdown",
   "metadata": {},
   "source": [
    "## Dictionary:\n",
    "- Sử dụng cơ chế mapping: **key** (string)-> **value** (dữ liệu bất kì)\n",
    "- Không có chỉ số index\n",
    "- Key là duy nhất (không trùng lặp key) "
   ]
  },
  {
   "cell_type": "code",
   "execution_count": 10,
   "metadata": {},
   "outputs": [],
   "source": [
    "# Khai báo (khởi tạo)\n",
    "dict1 = {} # Nếu mà ngoặc nhọn rỗng thì chỉ có duy nhất thuộc kiểu dict\n",
    "dict2 = dict()\n",
    "student_obj = {\"id\": 1, \"name\": \"Mai An Phúc\"}"
   ]
  },
  {
   "cell_type": "code",
   "execution_count": 16,
   "metadata": {},
   "outputs": [
    {
     "name": "stdout",
     "output_type": "stream",
     "text": [
      "student's name:  Mai An Phúc\n",
      "Student's id:  1\n"
     ]
    }
   ],
   "source": [
    "# Truy suất\n",
    "print(\"student's name: \", student_obj[\"name\"])\n",
    "print(\"Student's id: \", student_obj.get(\"id\"))\n",
    "# 2 cách làm trên cho kết quả như nhau"
   ]
  },
  {
   "cell_type": "code",
   "execution_count": 24,
   "metadata": {},
   "outputs": [
    {
     "data": {
      "text/plain": [
       "{'id': 1,\n",
       " 'name': 'Mai An Phúc',\n",
       " 'name1': 'Mai Ngọc An Tường',\n",
       " 'newbie': 'Mai Ngọc An Tường',\n",
       " 'age': 17}"
      ]
     },
     "execution_count": 24,
     "metadata": {},
     "output_type": "execute_result"
    }
   ],
   "source": [
    "# Thêm/ cập nhật\n",
    "student_obj[\"age\"] = 17\n",
    "student_obj[\"newbie\"] = \"Mai Ngọc An Tường\" # Nếu để trùng key cũ -> cập nhật\n",
    "student_obj"
   ]
  },
  {
   "cell_type": "code",
   "execution_count": 25,
   "metadata": {},
   "outputs": [
    {
     "name": "stdout",
     "output_type": "stream",
     "text": [
      "{'id': 1, 'name': 'Mai An Phúc', 'name1': 'Mai Ngọc An Tường', 'newbie': 'Mai Ngọc An Tường'}\n"
     ]
    }
   ],
   "source": [
    "# Xoá\n",
    "del student_obj[\"age\"]\n",
    "print(student_obj)"
   ]
  }
 ],
 "metadata": {
  "kernelspec": {
   "display_name": "Python 3",
   "language": "python",
   "name": "python3"
  },
  "language_info": {
   "codemirror_mode": {
    "name": "ipython",
    "version": 3
   },
   "file_extension": ".py",
   "mimetype": "text/x-python",
   "name": "python",
   "nbconvert_exporter": "python",
   "pygments_lexer": "ipython3",
   "version": "3.11.9"
  }
 },
 "nbformat": 4,
 "nbformat_minor": 2
}
