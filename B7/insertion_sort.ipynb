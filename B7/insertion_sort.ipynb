{
 "cells": [
  {
   "cell_type": "markdown",
   "metadata": {},
   "source": [
    "Thuật toán chèn 0(n^2)\n",
    "- Input: mảng chưa sắp xếp\n",
    "- Output: mảng đã sắp xếp\n",
    "\n"
   ]
  },
  {
   "cell_type": "code",
   "execution_count": 24,
   "metadata": {},
   "outputs": [],
   "source": [
    "def insertion_sort(arr):\n",
    "    # Duyệt quả từng phần tử -> tìm vị trí nhỏ nhất\n",
    "    for index in range(1, len(arr)):\n",
    "        insert_index = index\n",
    "        current_value = arr.pop(index) #Không chỉ lấy giá trị cuối cùng mà còn lấy các giá trị dựa trên index (xoá phần tử tại index)\n",
    "        for j in range(index -1,-1, -1): # start, stop , step\n",
    "            if arr[j] > current_value:\n",
    "                insert_index = j\n",
    "        arr.insert(insert_index, current_value) #Thêm phần tử vào vị trí mới\n",
    "    return arr"
   ]
  },
  {
   "cell_type": "code",
   "execution_count": 25,
   "metadata": {},
   "outputs": [
    {
     "name": "stdout",
     "output_type": "stream",
     "text": [
      "[54, 48, 99, 6, 43, 44, 90, 32, 72, 5]\n",
      "[0, 1, 2, 3, 4, 5, 6, 7, 8, 9]\n",
      "Time: 0.0211, s\n"
     ]
    }
   ],
   "source": [
    "# Test\n",
    "import random\n",
    "import timeit\n",
    "arr = random.sample(range(100), 100)\n",
    "print(arr[:10]) #Cắt 10 số đầu tiên (dạng giống slice)\n",
    "exc_time = timeit.timeit(lambda: insertion_sort(arr), number=100)\n",
    "print(insertion_sort(arr)[:10])\n",
    "print(f\"Time: {exc_time:.4f}, s\") #Lây 4 chữ số (đơn vị giây)\n",
    "\n"
   ]
  }
 ],
 "metadata": {
  "kernelspec": {
   "display_name": "Python 3",
   "language": "python",
   "name": "python3"
  },
  "language_info": {
   "codemirror_mode": {
    "name": "ipython",
    "version": 3
   },
   "file_extension": ".py",
   "mimetype": "text/x-python",
   "name": "python",
   "nbconvert_exporter": "python",
   "pygments_lexer": "ipython3",
   "version": "3.11.9"
  }
 },
 "nbformat": 4,
 "nbformat_minor": 2
}
