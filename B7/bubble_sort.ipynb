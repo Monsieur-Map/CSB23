{
 "cells": [
  {
   "cell_type": "markdown",
   "metadata": {},
   "source": [
    "- Thuật toán nổi bọt 0(n^2)\n",
    "- Chạy vòng lặp _ bắt cặp -> swap ngay trong vòng lặp"
   ]
  },
  {
   "cell_type": "code",
   "execution_count": 7,
   "metadata": {},
   "outputs": [],
   "source": [
    "def bubble_sort(arr):\n",
    "    for i in range(len(arr)):\n",
    "        swapped = False # Biến kiểm tra có thay đổ chỗ hay không\n",
    "        for j in range(0, len(arr)-i -1):\n",
    "            if arr[j] > arr[j+1]: # So sánh hai số liền kề\n",
    "                #Swap\n",
    "                arr[j], arr[j+1] = arr[j+1], arr[j]\n",
    "                swapped = True\n",
    "        if not swapped:\n",
    "            break\n",
    "    return arr"
   ]
  },
  {
   "cell_type": "code",
   "execution_count": 8,
   "metadata": {},
   "outputs": [
    {
     "name": "stdout",
     "output_type": "stream",
     "text": [
      "[19, 25, 36, 71, 41, 12, 69, 97, 80, 23]\n",
      "[0, 1, 2, 3, 4, 5, 6, 7, 8, 9]\n",
      "Time: 0.0019, s\n"
     ]
    }
   ],
   "source": [
    "# Test\n",
    "import random\n",
    "import timeit\n",
    "arr = random.sample(range(100), 100)\n",
    "print(arr[:10])\n",
    "exc_time = timeit.timeit(lambda: bubble_sort(arr), number=100)\n",
    "print(bubble_sort(arr)[:10])\n",
    "print(f\"Time: {exc_time:.4f}, s\") #Lây 4 chữ số (đơn vị giây)"
   ]
  }
 ],
 "metadata": {
  "kernelspec": {
   "display_name": "Python 3",
   "language": "python",
   "name": "python3"
  },
  "language_info": {
   "codemirror_mode": {
    "name": "ipython",
    "version": 3
   },
   "file_extension": ".py",
   "mimetype": "text/x-python",
   "name": "python",
   "nbconvert_exporter": "python",
   "pygments_lexer": "ipython3",
   "version": "3.11.9"
  }
 },
 "nbformat": 4,
 "nbformat_minor": 2
}
