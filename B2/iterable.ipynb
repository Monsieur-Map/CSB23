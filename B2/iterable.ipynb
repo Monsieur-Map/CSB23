{
 "cells": [
  {
   "cell_type": "markdown",
   "metadata": {},
   "source": [
    "# Danh sách có index"
   ]
  },
  {
   "cell_type": "markdown",
   "metadata": {},
   "source": [
    "## List[]\n",
    "- chứa các phần tử có thư tự, có giá trị là bất kỳ kiểu dữ liệu nào\n",
    "- Có thể truy cập giá trị của phần tử bằng chỉ số vị trí (index)\n",
    "- Có kích thước thay đổi được khi thực thi chương trình"
   ]
  },
  {
   "cell_type": "code",
   "execution_count": 8,
   "metadata": {},
   "outputs": [
    {
     "name": "stdout",
     "output_type": "stream",
     "text": [
      "['item', 'item2', 'item3']\n",
      "True\n",
      "['item0', 'item', 'item3']\n"
     ]
    }
   ],
   "source": [
    "# Khai báo phần tử\n",
    "list_1 = [\"item\", \"item2\", \"item3\"]\n",
    "print(list_1) \n",
    "\n",
    "#Truy cập phần tử với index:\n",
    "print(list_1[-3] == list_1[0]) #True\n",
    "\n",
    "#Thêm phần tử\n",
    "list_1.append(\"item4\") #Thêm vào vị trí cuối\n",
    "list_1.insert(0, \"item0\") #Thêm vào vị trí 0\n",
    "\n",
    "#Sửa phần tử\n",
    "list_1[4] = \"item5\" #sửa phần tử ở vị trí thứ 4 (item 4 -> item 5)\n",
    "\n",
    "#Xoá phần tử\n",
    "list_1.remove(\"item2\") #Xoá dựa trên giá trị [Nếu có phần tử giôgns nhau -> xoá item đầu tiên từ bên trái gần nhất]\n",
    "del list_1[len(list_1)-1] #Xoá dựa trên index: xoá phần tử cuối cùng [item 5 biến mất @_@]\n",
    "print(list_1) \n",
    "\n"
   ]
  },
  {
   "cell_type": "code",
   "execution_count": 6,
   "metadata": {},
   "outputs": [
    {
     "name": "stdout",
     "output_type": "stream",
     "text": [
      "['item3', 'item2', 'item']\n",
      "['item2']\n"
     ]
    }
   ],
   "source": [
    "## Slice: cắt mảng [start:stop:step]\n",
    "#start: vị trí bắt đầu (mặc định là 0)\n",
    "#stop: vị trí kết thúc (mặc định là phần tử cuối cùng tỏng danh sách)\n",
    "#step: bước nhảy (mặc định là 1)\n",
    "print(list_1[::-1]) \n",
    "print(list_1[1:3:2]) #Lấy phần tử từ vị trí 1 đến 3-1=2 (step là 3)"
   ]
  },
  {
   "cell_type": "markdown",
   "metadata": {},
   "source": [
    "## Tuple()"
   ]
  },
  {
   "cell_type": "markdown",
   "metadata": {},
   "source": [
    "- có index\n",
    "- không thể cập nhật giá trị phần tử\n",
    "- Bao hồm những tính chất khác giống list"
   ]
  },
  {
   "cell_type": "markdown",
   "metadata": {},
   "source": [
    "## String \" \""
   ]
  },
  {
   "cell_type": "markdown",
   "metadata": {},
   "source": [
    "- Có index -> có thể truy cập phần tử từ index\n",
    "- Không thể thay đổi một kí tự con trong chuỗi\n",
    "- **Thêm** / **Cộng dồn** chuỗi  + cắt chuỗi => giống **list**\n",
    "\n"
   ]
  },
  {
   "cell_type": "markdown",
   "metadata": {},
   "source": [
    "# Danh sách không có thứ tự truy cập (index)"
   ]
  },
  {
   "cell_type": "markdown",
   "metadata": {},
   "source": [
    "## Set { }"
   ]
  },
  {
   "cell_type": "markdown",
   "metadata": {},
   "source": [
    "- Nếu là **set rỗng** => phải viết **set()** vì nếu dùng *{} thì sẽ được xem là dictionary*\n",
    "- Danh sách không trùng lặp (xoá phần tử trùng lập tính từ bên phải sang bên trái)\n",
    "- Vì không có inđex -> không truy cập được một phần tử bất kì\n"
   ]
  },
  {
   "cell_type": "code",
   "execution_count": 22,
   "metadata": {},
   "outputs": [
    {
     "name": "stdout",
     "output_type": "stream",
     "text": [
      "{'item1', 'item2', 'item3', 'item4'}\n",
      "{'item3', 'item2', 'item6', 'item7', 'item4', 'item1'}\n",
      "True\n",
      "{'item3', 'item2', 'item6', 'item7', 'item4', 'item1'}\n",
      "{'item3', 'item6', 'item7', 'item4', 'item1'}\n",
      "{'item6', 'item7', 'item4', 'item1'}\n"
     ]
    }
   ],
   "source": [
    "# Khai báo\n",
    "set1 = {\"item1\" , \"item2\", \"item3\"}\n",
    "\n",
    "# Thêm phần tử\n",
    "set1.add(\"item4\") # Thêm phần tử mới\n",
    "print(set1)\n",
    "set1.update([\"item5\", \"item6\"]) #Thêm phần tử mới nhưng bỏ vào vị trí ngẫu nhiên (unpredictable @_@_@_@_@_@_@_@_@)\n",
    "print(set1)\n",
    "\n",
    "# Sửa phần tử\n",
    "print(\"item1\" in set1) #Kiểm tra phần tử có trong set hay không \n",
    "print(set1) # có nên True\n",
    "\n",
    "# Xoá phần tử\n",
    "set1.remove(\"item2\") # Xoá phần tử nếu có (báo lỗi nếu không có)\n",
    "print(set1)\n",
    "set1.discard(\"item3\") # Xoá phần tử nếu có, nếu không có thì không làm gì cả\n",
    "print(set1)"
   ]
  },
  {
   "cell_type": "markdown",
   "metadata": {},
   "source": [
    "## Dictionary"
   ]
  },
  {
   "cell_type": "markdown",
   "metadata": {},
   "source": [
    "- Danh sách có 2 phần: **{\"key\" : \"value\"}**\n",
    "- Mỗi item (key/value) cách nhau bởi dấu **,**\n",
    "- Key không được trùng giữa các item => trùng lập thì ghi đè value cũ"
   ]
  },
  {
   "cell_type": "code",
   "execution_count": 11,
   "metadata": {},
   "outputs": [
    {
     "name": "stdout",
     "output_type": "stream",
     "text": [
      "{'01': 'Mai An Phúc', '02': 'Mai An Tiêm', '03': 'Mai Ngọc An Tường'}\n",
      "{'01': 'Mai An Phúc', '02': 'Mai An Tiêm', '03': 'Mai Ngọc An Tường', '04': 'Mai Hữu Nghĩa'}\n",
      "{'01': 'Mai An Phúc', '02': 'Mai An Tiêm', '04': 'Mai Hữu Nghĩa'}\n",
      "Mai An Tiêm\n",
      "('04', 'Mai Hữu Nghĩa')\n",
      "{'01': 'Mai An Phúc', '02': 'Mai An Púc'}\n",
      "01 : Mai An Phúc\n",
      "02 : Mai An Púc\n",
      "{'02': 'Mai An Púc'}\n"
     ]
    }
   ],
   "source": [
    "# Khai báo\n",
    "students = {\n",
    "    \"01\" : \"Mai An Phúc\",\n",
    "    \"02\" : \"Mai An Tiêm\",\n",
    "    \"03\" : \"Mai Ngọc An Tường\"\n",
    "}\n",
    "print(students)\n",
    "# Thêm phần tử\n",
    "students[\"04\"] = \"Mai Hữu Nghĩa\"\n",
    "print(students)\n",
    "\n",
    "# Xoá phần tử\n",
    "del students[\"03\"]\n",
    "print(students)\n",
    "\n",
    "#pop(key, default) => return value của key đã nhập, nếu không có thì trả về default\n",
    "da_xoa = students.pop(\"02\", \"không tìm thấy\")\n",
    "print(da_xoa)\n",
    "\n",
    "#popitem() => xoá phần tử cuối cùng => return tuple (key, value)\n",
    "da_xoa = students.popitem()\n",
    "print(da_xoa)\n",
    "\n",
    "# Sửa phần tử (ghi đè)\n",
    "students[\"02\"] = \"Mai An Púc\"\n",
    "print(students)\n",
    "\n",
    "# Tìm kiếm phần tử\n",
    "#dict.keys(): danh sách khoá\n",
    "#dict.items(): danh sách tuple (key,value)\n",
    "for key, value in students.items():\n",
    "    print(f\"{key} : {value}\")\n",
    "    \n",
    "# => Viết tắt\n",
    "new_list = {key: value for key, value in students.items() if int(key) % 2 ==0}\n",
    "print(new_list)"
   ]
  }
 ],
 "metadata": {
  "kernelspec": {
   "display_name": "Python 3",
   "language": "python",
   "name": "python3"
  },
  "language_info": {
   "codemirror_mode": {
    "name": "ipython",
    "version": 3
   },
   "file_extension": ".py",
   "mimetype": "text/x-python",
   "name": "python",
   "nbconvert_exporter": "python",
   "pygments_lexer": "ipython3",
   "version": "3.11.9"
  }
 },
 "nbformat": 4,
 "nbformat_minor": 2
}
