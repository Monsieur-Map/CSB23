{
 "cells": [
  {
   "cell_type": "markdown",
   "metadata": {},
   "source": [
    "# Tạo/ Đọc file\n"
   ]
  },
  {
   "cell_type": "code",
   "execution_count": 4,
   "metadata": {},
   "outputs": [
    {
     "name": "stdout",
     "output_type": "stream",
     "text": [
      "id: 01\n",
      "name: \"Mai An Phuc\"\n",
      "class: \"CSB23\"\n",
      "\n",
      "[]\n"
     ]
    }
   ],
   "source": [
    "# Tạo biến lưu file được gọi\n",
    "file = open(\"data.txt\" , \"r\")\n",
    "\n",
    "# Đọc hết dữ liệu read() => return : string\n",
    "data = file.read()\n",
    "print(data)\n",
    "# readline(): đọc từng dòng => return : string\n",
    "data = file.readline()\n",
    "print(data)\n",
    "# readlines(): đọc hết dữ liệu (lấy luôn kí tự đặc biệt) => return : list\n",
    "data = file.readlines()\n",
    "print(data)\n",
    "\n",
    "# đóng file\n",
    "file.close()\n"
   ]
  },
  {
   "cell_type": "markdown",
   "metadata": {},
   "source": [
    "# Ghi file"
   ]
  },
  {
   "cell_type": "code",
   "execution_count": 6,
   "metadata": {},
   "outputs": [],
   "source": [
    "# w: ghi đè file cũ hoặc tạo mới nếu chưa có\n",
    "# x: tạo mới và ghi vào , nếu đã có file -> báo lỗi\n",
    "\n",
    "with open(\"new_data.txt\", \"w\", encoding=\"utf-8\") as file:\n",
    "    # Ghi 1 dòng\n",
    "    file.write(\"Hello\")\n",
    "    # Ghi nhiều dòng\n",
    "    file.write(\"\\n\")\n",
    "    file.write(\"Are u ok??\\t\")\n",
    "    \n",
    "\n",
    "# a: append, ghi tiếp dữ liệu trong file (bố sung vào cuối fule)\n",
    "with open(\"new_data.txt\", \"a\") as file:\n",
    "    file.writelines([\"abc\\n\", \"xyz\\n\", \"123\\n\"])\n",
    "\n"
   ]
  }
 ],
 "metadata": {
  "kernelspec": {
   "display_name": "Python 3",
   "language": "python",
   "name": "python3"
  },
  "language_info": {
   "codemirror_mode": {
    "name": "ipython",
    "version": 3
   },
   "file_extension": ".py",
   "mimetype": "text/x-python",
   "name": "python",
   "nbconvert_exporter": "python",
   "pygments_lexer": "ipython3",
   "version": "3.11.9"
  }
 },
 "nbformat": 4,
 "nbformat_minor": 2
}
