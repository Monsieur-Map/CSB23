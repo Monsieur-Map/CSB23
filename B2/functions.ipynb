{
 "cells": [
  {
   "cell_type": "markdown",
   "metadata": {},
   "source": [
    "- Khai báo hàm: **def**\n",
    "- Khi khai báo, trong ngoặc tròn (tham số / parameters)\n",
    "- Nếu gọi hàm để chạy, nhập giá trị cho tham số => (đối số / arguments)\n",
    "- **return** trả về giá trị cụ thể\n"
   ]
  },
  {
   "cell_type": "code",
   "execution_count": 4,
   "metadata": {},
   "outputs": [
    {
     "data": {
      "text/plain": [
       "False"
      ]
     },
     "execution_count": 4,
     "metadata": {},
     "output_type": "execute_result"
    }
   ],
   "source": [
    "# Hàm 1 dòng (nàm lamda)\n",
    "# Tạo hàm kiểm tra số chẵn\n",
    "def even_numb (n : int) -> bool:\n",
    "    return n%2 ==0\n",
    "\n",
    "# CÚ PHÁP: lambda <params> : <code return> -> kiểu là điểu kiện trả về giá trị cụ thể\n",
    "even_numb = lambda n : n %2==0\n",
    "even_numb(11)"
   ]
  }
 ],
 "metadata": {
  "kernelspec": {
   "display_name": "Python 3",
   "language": "python",
   "name": "python3"
  },
  "language_info": {
   "codemirror_mode": {
    "name": "ipython",
    "version": 3
   },
   "file_extension": ".py",
   "mimetype": "text/x-python",
   "name": "python",
   "nbconvert_exporter": "python",
   "pygments_lexer": "ipython3",
   "version": "3.11.9"
  }
 },
 "nbformat": 4,
 "nbformat_minor": 2
}
