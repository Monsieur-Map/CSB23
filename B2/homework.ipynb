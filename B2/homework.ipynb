{
 "cells": [
  {
   "cell_type": "code",
   "execution_count": 13,
   "metadata": {},
   "outputs": [
    {
     "name": "stdout",
     "output_type": "stream",
     "text": [
      "Trung bình cộng của các số chẵn có trong danh sách:  [2, 4] là:  3.0\n"
     ]
    }
   ],
   "source": [
    "n = int(input(\"Số lượng phần tử: \"))\n",
    "numbers = []\n",
    "\n",
    "for i in range(n):\n",
    "    num = int(input(f\"Nhập số thứ {i+1}: \"))\n",
    "    numbers.append(num)\n",
    "\n",
    "#Tính toán cho số chẵn\n",
    "even_numbers = []\n",
    "for i in numbers:\n",
    "    if i % 2 ==0:\n",
    "        even_numbers.append(i)\n",
    "\n",
    "if even_numbers:\n",
    "    average = sum(even_numbers) / len(even_numbers)\n",
    "    print(\"Trung bình cộng của các số chẵn có trong danh sách: \", even_numbers,\"là: \", average)\n",
    "else:\n",
    "    print(\"Trong danh sách không có bất kì số nào là số chẵn hết :((\")\n",
    "\n",
    "\n",
    "\n",
    "\n",
    "\n"
   ]
  }
 ],
 "metadata": {
  "kernelspec": {
   "display_name": "Python 3",
   "language": "python",
   "name": "python3"
  },
  "language_info": {
   "codemirror_mode": {
    "name": "ipython",
    "version": 3
   },
   "file_extension": ".py",
   "mimetype": "text/x-python",
   "name": "python",
   "nbconvert_exporter": "python",
   "pygments_lexer": "ipython3",
   "version": "3.11.9"
  }
 },
 "nbformat": 4,
 "nbformat_minor": 2
}
