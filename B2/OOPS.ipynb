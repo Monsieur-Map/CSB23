{
 "cells": [
  {
   "cell_type": "markdown",
   "metadata": {},
   "source": [
    "- OOP: class (bản vẽ): quy định  **thuộc tính** + **phương thức** cho object (bản sao)\n",
    "- Mỗi class đều bắt buộc có 1 def __init__ (hàm khởi tạo)\n",
    "- Tên Class **viết hoa chữ cái đầu**.\n",
    "- **4 Tính chất**:\n",
    "    - Kế thừa\n",
    "    - Đóng gói (packed)\n",
    "    - Trừu tượng (Abstract)\n",
    "    - Đa hình (Geometry:Đ)\n",
    "- *Note: mỗi class được tạo ra, **mặc định được kế thừa từ class Object** trong thư viện Python*\n",
    "    - Nếu không khai báo hàm khởi tọ -> chương trình sẽ lấy init mặc định từ Object\n",
    "\n"
   ]
  },
  {
   "cell_type": "markdown",
   "metadata": {},
   "source": [
    "- Tạo class Animal: age, sound, name -> hàm speak in ra tiếng kêu, hàm action để trống\n",
    "- Tạo class Dog, Duck, Bird: chỉnh sửa lại hàm str để có thể in ra thông tin của các con vật\n",
    "- Mỗi con vật có action riêng"
   ]
  },
  {
   "cell_type": "code",
   "execution_count": 5,
   "metadata": {},
   "outputs": [],
   "source": [
    "class Animal:\n",
    "    # Hàm khởi tạo \n",
    "    def __init__(self, name: str, age: int, sound: str): # Do không biết user đặt tên gì nên code tự đặt cho object tên là Self\n",
    "        # __prop: private\n",
    "        self.__name = name\n",
    "        self.__age = age\n",
    "        self.__sound = sound\n",
    "        \n",
    "    # getter/ setter (thể hiện tính đóng gói)\n",
    "    @property\n",
    "    def getName(self):                      \n",
    "        return self.__name\n",
    "    \n",
    "    def setName(self, name):\n",
    "        self.__name = name\n",
    "    \n",
    "    def getAge(self):\n",
    "        return self.__age\n",
    "    \n",
    "    def setAge(self, age):\n",
    "        self.__age = age\n",
    "        \n",
    "    # Tính đa hình\n",
    "    def speak(self):\n",
    "        return self.name + \"speaks\" + self.__sound\n",
    "    \n",
    "    # Tính trừu tượng\n",
    "    def action(self):\n",
    "        pass\n"
   ]
  }
 ],
 "metadata": {
  "kernelspec": {
   "display_name": "Python 3",
   "language": "python",
   "name": "python3"
  },
  "language_info": {
   "codemirror_mode": {
    "name": "ipython",
    "version": 3
   },
   "file_extension": ".py",
   "mimetype": "text/x-python",
   "name": "python",
   "nbconvert_exporter": "python",
   "pygments_lexer": "ipython3",
   "version": "3.11.9"
  }
 },
 "nbformat": 4,
 "nbformat_minor": 2
}
