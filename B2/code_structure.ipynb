{
 "cells": [
  {
   "cell_type": "markdown",
   "metadata": {},
   "source": [
    "# Cấu trúc tuần tự"
   ]
  },
  {
   "cell_type": "markdown",
   "metadata": {},
   "source": [
    "- Chạy code từ dòng trên xuống dòng dưới\n",
    "- Nếu dòng trên sai -> lập tức dừng các dòng lệnh dưới\n",
    "- "
   ]
  },
  {
   "cell_type": "code",
   "execution_count": 1,
   "metadata": {},
   "outputs": [
    {
     "name": "stdout",
     "output_type": "stream",
     "text": [
      "1\n"
     ]
    },
    {
     "ename": "ValueError",
     "evalue": "invalid literal for int() with base 10: 'abc'",
     "output_type": "error",
     "traceback": [
      "\u001b[31m---------------------------------------------------------------------------\u001b[39m",
      "\u001b[31mValueError\u001b[39m                                Traceback (most recent call last)",
      "\u001b[36mCell\u001b[39m\u001b[36m \u001b[39m\u001b[32mIn[1]\u001b[39m\u001b[32m, line 2\u001b[39m\n\u001b[32m      1\u001b[39m \u001b[38;5;28mprint\u001b[39m(\u001b[32m1\u001b[39m)\n\u001b[32m----> \u001b[39m\u001b[32m2\u001b[39m \u001b[38;5;28mprint\u001b[39m(\u001b[38;5;28;43mint\u001b[39;49m\u001b[43m(\u001b[49m\u001b[33;43m\"\u001b[39;49m\u001b[33;43mabc\u001b[39;49m\u001b[33;43m\"\u001b[39;49m\u001b[43m)\u001b[49m) \u001b[38;5;66;03m# Vì dòng này sai -> không chạy tiếp\u001b[39;00m\n\u001b[32m      3\u001b[39m \u001b[38;5;28mprint\u001b[39m(\u001b[32m2\u001b[39m)\n",
      "\u001b[31mValueError\u001b[39m: invalid literal for int() with base 10: 'abc'"
     ]
    }
   ],
   "source": [
    "print(1)\n",
    "print(int(\"abc\")) # Vì dòng này sai -> không chạy tiếp\n",
    "print(2)"
   ]
  },
  {
   "cell_type": "markdown",
   "metadata": {},
   "source": [
    "# Cấu trúc rẽ nhánh"
   ]
  },
  {
   "cell_type": "markdown",
   "metadata": {},
   "source": [
    "## if - elif - else"
   ]
  },
  {
   "cell_type": "code",
   "execution_count": 3,
   "metadata": {},
   "outputs": [
    {
     "data": {
      "text/plain": [
       "'abc'"
      ]
     },
     "execution_count": 4,
     "metadata": {},
     "output_type": "execute_result"
    }
   ],
   "source": [
    "# Viết tắt cấu trúc if - else\n",
    "\"abc\" if True else \"xyz\" #Nếu True thì in ra \"abc\", nếu False thì in ra \"xyz\"\n",
    "\"abc\" or \"\" #Có thể áp dụng toán tử logic\n",
    "\n",
    "# Viết tắt câu lệnh if 1 dòng\n",
    "if True: print(\"nvm\")\n",
    "\n",
    "# if - elif - else (kiểm tra khoảng)\n",
    "x=10\n",
    "if 0<= x <= 100:\n",
    "    print(x,\" nằm trong khoảng từ 0 đến 100\")\n",
    "elif 100< x <= 200:\n",
    "    print(x,\" nằm trong khoảng từ 100 đến 200\")\n",
    "else:\n",
    "    print(x,\" không hợp lệ ⚠️\")\n",
    "\n",
    "    \n"
   ]
  },
  {
   "cell_type": "markdown",
   "metadata": {},
   "source": [
    "## Try except\n",
    "Thường dùng để bắt lỗi cho chương trình\n",
    "=> **Không cần dừng chương trình đang hoạt động**\n"
   ]
  },
  {
   "cell_type": "code",
   "execution_count": 14,
   "metadata": {},
   "outputs": [
    {
     "name": "stdout",
     "output_type": "stream",
     "text": [
      "Lỗi: Impossible!!! How can we get the negative number of ages???\n",
      "Kết thúc chương trình kiểm tra tuổi\n"
     ]
    }
   ],
   "source": [
    "# Kiểm tra kiểu dữ liệu nhập vào\n",
    "age = input(\"Nhập tuổi của bạn: \") #return kiểu string\n",
    "try:\n",
    "    age = int(age) # Chuyển đổi sang kiểu int\n",
    "    if age < 0:\n",
    "        raise ValueError(\"Impossible!!! How can we get the negative number of ages???\")\n",
    "except Exception as e:\n",
    "    print(f\"Lỗi: {e}\")\n",
    "\n",
    "finally: #Dòng này sẽ luôn chạy dù có lỗi hay không\n",
    "    print(\"Kết thúc chương trình kiểm tra tuổi\")\n",
    " \n"
   ]
  },
  {
   "cell_type": "markdown",
   "metadata": {},
   "source": [
    "# CẤU TRÚC LẶP"
   ]
  },
  {
   "cell_type": "markdown",
   "metadata": {},
   "source": [
    "## For (thường dùng với danh sách)"
   ]
  },
  {
   "cell_type": "markdown",
   "metadata": {},
   "source": [
    "**range(start, stop, step)**\n",
    "- range(numb_want_to_stop): chạy từ 0 -> number_want_to_stop (Mỗi lần cộng dồn 1 đơn vị)\n",
    "- range(start, stop): start -> stop (mỗi lần cộng dồn 1 đơn vị)\n",
    "- range(start, stop, step): start -> stop (mỗi lần cộng dồn step đơn vị)\n"
   ]
  },
  {
   "cell_type": "code",
   "execution_count": 19,
   "metadata": {},
   "outputs": [
    {
     "name": "stdout",
     "output_type": "stream",
     "text": [
      "0\n",
      "2\n",
      "4\n",
      "6\n",
      "8\n",
      "10\n",
      "Sinh nhật ve vủi\n"
     ]
    }
   ],
   "source": [
    "# Đếm ngược thời gian \n",
    "import time\n",
    "\n",
    "for sec in range(0,12,2):\n",
    "    print(sec)\n",
    "    time.sleep(1) # Dừng 1 giây trước khi in ký tự tiếp theo\n",
    "print(\"Sinh nhật ve vủi\")"
   ]
  },
  {
   "cell_type": "code",
   "execution_count": 24,
   "metadata": {},
   "outputs": [
    {
     "name": "stdout",
     "output_type": "stream",
     "text": [
      "Phàn tử thứ 0 là apple\n",
      "Phàn tử thứ 1 là banana\n",
      "Phàn tử thứ 2 là cherry\n"
     ]
    }
   ],
   "source": [
    "# Duyệt phần tử trong danh sách\n",
    "fruits = [\"apple\", \"banana\", \"cherry\"]\n",
    "for index, value in enumerate(fruits): #nếu không phải ở dạng số thì nên dùng enumerate\n",
    "    print(f\"Phàn tử thứ {index} là {value}\")"
   ]
  },
  {
   "cell_type": "markdown",
   "metadata": {},
   "source": [
    "## While\n",
    "Thường dùng cho các trường hợp **không xác định số lần lặp**\n",
    "\n"
   ]
  },
  {
   "cell_type": "code",
   "execution_count": 5,
   "metadata": {},
   "outputs": [
    {
     "name": "stdout",
     "output_type": "stream",
     "text": [
      "tuổi của bạn là: 6\n"
     ]
    }
   ],
   "source": [
    "#Kiểm tra tính hợp lệ khi nhập dữ liệu\n",
    "age = int(input(\"Nhập tuổi của bạn (phải là số dương): \")) #Cho dữ liệu ban đầu trước\n",
    "while age < 0:\n",
    "    print(\"Error!!! Tuổi của bạn phải là số dương: \")\n",
    "    try:\n",
    "        age = int(input(\"Nhập tuổi của bạn (phải là số dương): \")) # Chuyển đổi sang kiểu int\n",
    "    except Exception as e:\n",
    "        print(f\"Lỗi: {e}\")\n",
    "        age = -1 # Đặt lại age để tiếp tục vòng lặp\n",
    "        \n",
    "print(f\"tuổi của bạn là: {age}\")\n"
   ]
  }
 ],
 "metadata": {
  "kernelspec": {
   "display_name": "Python 3",
   "language": "python",
   "name": "python3"
  },
  "language_info": {
   "codemirror_mode": {
    "name": "ipython",
    "version": 3
   },
   "file_extension": ".py",
   "mimetype": "text/x-python",
   "name": "python",
   "nbconvert_exporter": "python",
   "pygments_lexer": "ipython3",
   "version": "3.11.9"
  }
 },
 "nbformat": 4,
 "nbformat_minor": 2
}
